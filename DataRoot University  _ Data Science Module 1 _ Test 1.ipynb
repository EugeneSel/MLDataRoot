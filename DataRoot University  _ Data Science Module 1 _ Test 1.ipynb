{
 "cells": [
  {
   "cell_type": "markdown",
   "metadata": {
    "colab_type": "text",
    "id": "_Q4xa6bwjPMb"
   },
   "source": [
    "## Requirements:\n",
    "\n",
    ">  Python 3.6.4\n",
    "\n",
    ">  numpy 1.14.0\n",
    "\n",
    ">  scipy 1.0.0\n",
    "\n",
    ">  pandas 0.22.0\n"
   ]
  },
  {
   "cell_type": "markdown",
   "metadata": {
    "colab_type": "text",
    "id": "KOP7kgV5PSl2"
   },
   "source": [
    "# Python and algorithms"
   ]
  },
  {
   "cell_type": "markdown",
   "metadata": {
    "colab_type": "text",
    "id": "0R6uyhNyjPMc"
   },
   "source": [
    "##### Сomplete this part of test without using any libs (your code must not contain keyword 'import')"
   ]
  },
  {
   "cell_type": "markdown",
   "metadata": {
    "colab_type": "text",
    "id": "GC_iufBgjPMd"
   },
   "source": [
    "#### 1. Implement function str_to_dict(some_str) which returnes dictionary, where keys are string characters, and values are their quantity in the string:\n",
    "\n",
    "<div style=\"text-align: right\">DRP reward: 2</div>"
   ]
  },
  {
   "cell_type": "code",
   "execution_count": 11,
   "metadata": {
    "colab": {},
    "colab_type": "code",
    "id": "DDou3xupjPMe"
   },
   "outputs": [],
   "source": [
    "def str_to_dict(some_str):  \n",
    "    result_dict = {}\n",
    "    for i in range(len(some_str)):\n",
    "        if some_str[i] in result_dict:\n",
    "            result_dict[some_str[i]] += 1\n",
    "        else:\n",
    "            result_dict[some_str[i]] = 1\n",
    "    \n",
    "    return result_dict"
   ]
  },
  {
   "cell_type": "code",
   "execution_count": 12,
   "metadata": {
    "colab": {},
    "colab_type": "code",
    "id": "FPjc0Ckxsdbl"
   },
   "outputs": [
    {
     "name": "stdout",
     "output_type": "stream",
     "text": [
      "('Str to dict:', {'a': 2, 'e': 1, 'd': 1, 'i': 2, 'o': 2, 'n': 1, 's': 1, 'r': 2, 'u': 1, 't': 3, 'v': 1, 'y': 1, '_': 1})\n"
     ]
    }
   ],
   "source": [
    "print('Str to dict:', str_to_dict('dataroot_university'))"
   ]
  },
  {
   "cell_type": "markdown",
   "metadata": {
    "colab_type": "text",
    "id": "nurux2Btsdbn"
   },
   "source": [
    "Expected Output: \n",
    "<table>\n",
    "  <tr>\n",
    "    <td>Str to dict:</td>\n",
    "    <td> {'d': 1, 'a': 2, 't': 3, 'r': 2, 'o': 2, '_': 1, 'u': 1, 'n': 1, 'i': 2, 'v': 1, 'e': 1, 's': 1, 'y': 1} </td> \n",
    "  </tr>"
   ]
  },
  {
   "cell_type": "markdown",
   "metadata": {
    "colab_type": "text",
    "id": "ELtxJQQLjPMi"
   },
   "source": [
    "#### 2. Implement function sec_smallest(numbers) which returns second smallest item in the list, without using the built-in sorting methods (your code mustn't contain such words as 'sort', 'sorted'):\n",
    "\n",
    "<div style=\"text-align: right\">DRP reward: 2\n",
    "  "
   ]
  },
  {
   "cell_type": "code",
   "execution_count": 13,
   "metadata": {
    "colab": {},
    "colab_type": "code",
    "id": "yJVJiK9jjPMj"
   },
   "outputs": [],
   "source": [
    "def sec_smallest(numbers):\n",
    "    for i in range(len(numbers)):\n",
    "        for j in range(i + 1, len(numbers)):\n",
    "            if numbers[i] > numbers[j]:\n",
    "                temp = numbers[i]\n",
    "                numbers[i] = numbers[j]\n",
    "                numbers[j] = temp\n",
    "                \n",
    "    for i in range(1, len(numbers)):\n",
    "        if numbers[i] != numbers[i - 1]:\n",
    "            return numbers[i]"
   ]
  },
  {
   "cell_type": "code",
   "execution_count": 14,
   "metadata": {
    "colab": {},
    "colab_type": "code",
    "id": "pg4ry_8Csdbq"
   },
   "outputs": [
    {
     "name": "stdout",
     "output_type": "stream",
     "text": [
      "('Sec_smallest:', -2)\n"
     ]
    }
   ],
   "source": [
    "print('Sec_smallest:', sec_smallest([1, 2, -8, -8, -2, 0]))"
   ]
  },
  {
   "cell_type": "markdown",
   "metadata": {
    "colab_type": "text",
    "id": "qVlYH9axsdbs"
   },
   "source": [
    "Expected Output: \n",
    "<table>\n",
    "  <tr>\n",
    "    <td>Sec_smallest:</td>\n",
    "    <td> -2 </td> \n",
    "  </tr>"
   ]
  },
  {
   "cell_type": "markdown",
   "metadata": {
    "colab_type": "text",
    "id": "tzgLZ6VijPMo"
   },
   "source": [
    "#### 3. Implement function prime_nums(n) that returns list of numbers which  are simple and < n:\n",
    "\n",
    "<div style=\"text-align: right\">DRP reward: 2</div>"
   ]
  },
  {
   "cell_type": "code",
   "execution_count": 19,
   "metadata": {
    "colab": {},
    "colab_type": "code",
    "id": "jvVD9N32jPMp"
   },
   "outputs": [],
   "source": [
    "def prime_nums(n):\n",
    "    result_list = []\n",
    "    is_prime = True\n",
    "    \n",
    "    for i in range(2, n):\n",
    "        for j in range(1, i - 1):\n",
    "            if i % j == 0 and j != 1:\n",
    "                is_prime = False\n",
    "                break\n",
    "            else:\n",
    "                is_prime = True\n",
    "        \n",
    "        if is_prime:\n",
    "            result_list.append(i)\n",
    "    \n",
    "    return result_list"
   ]
  },
  {
   "cell_type": "code",
   "execution_count": 20,
   "metadata": {
    "colab": {},
    "colab_type": "code",
    "id": "Zf9DMkN9sdbw"
   },
   "outputs": [
    {
     "name": "stdout",
     "output_type": "stream",
     "text": [
      "('Prime numbers:', [2, 3, 5, 7, 11, 13, 17, 19, 23, 29])\n"
     ]
    }
   ],
   "source": [
    "print('Prime numbers:', prime_nums(30))"
   ]
  },
  {
   "cell_type": "markdown",
   "metadata": {
    "colab_type": "text",
    "id": "pYutFqaAsdbz"
   },
   "source": [
    "Expected Output:\n",
    "<table>\n",
    "  <tr>\n",
    "    <td>Prime numbers:</td>\n",
    "    <td>[2, 3, 5, 7, 11, 13, 17, 19, 23, 29]</td>\n",
    "  </tr>"
   ]
  },
  {
   "cell_type": "markdown",
   "metadata": {
    "colab_type": "text",
    "id": "p96mEq8vjPMr"
   },
   "source": [
    "#### 4. Implement class Conv, that contains method to_roman(self, n), which converts decimal numbers to Roman numerals:\n",
    "\n",
    "<div style=\"text-align: right\">DRP reward: 2</div>"
   ]
  },
  {
   "cell_type": "code",
   "execution_count": 30,
   "metadata": {
    "colab": {},
    "colab_type": "code",
    "id": "weYiaNWojPMs"
   },
   "outputs": [],
   "source": [
    "class Conv:\n",
    "    def to_roman(self, num):    \n",
    "        val = [\n",
    "            1000, 900, 500, 400,\n",
    "            100, 90, 50, 40,\n",
    "            10, 9, 5, 4, 1\n",
    "        ]\n",
    "\n",
    "        syb = [\n",
    "            'M', 'CM', 'D', 'CD',\n",
    "            'C', 'XC', 'L', 'XL',\n",
    "            'X', 'IX', 'V', 'IV',\n",
    "            'I'\n",
    "        ]\n",
    "        \n",
    "        if num == 0:\n",
    "            return 'zero'\n",
    "        \n",
    "        rank = {}\n",
    "        input_str = str(num)\n",
    "        for i in range(len(input_str)):\n",
    "            rank[len(input_str) - i] = int(input_str[i])\n",
    "        \n",
    "        result_str = ''\n",
    "        for i in range(len(input_str), 0, -1):\n",
    "            cur_digit = rank[i] * 10 ** (i - 1)\n",
    "            if (rank[i] > 5 and rank[i] < 9):\n",
    "                additional_digit = rank[i] - 5\n",
    "                for k in range(len(val)):\n",
    "                    if 5 * 10 ** (i - 1) == val[k]:\n",
    "                        result_str += syb[k]\n",
    "                        for m in range(len(val)):\n",
    "                            if 1 * 10 ** (i - 1) == val[m]:\n",
    "                                for j in range(additional_digit):\n",
    "                                    result_str += syb[m]\n",
    "                                break\n",
    "                        break\n",
    "            elif (rank[i] > 1 and rank[i] < 4):\n",
    "                for k in range(len(val)):\n",
    "                    if 10 ** (i - 1) == val[k]:\n",
    "                        for j in range(rank[i]):\n",
    "                            result_str += syb[k]\n",
    "                        break\n",
    "                        \n",
    "            for k in range(len(val)):\n",
    "                if cur_digit == val[k]:\n",
    "                    result_str += syb[k]\n",
    "                    break\n",
    "            \n",
    "        return result_str    "
   ]
  },
  {
   "cell_type": "code",
   "execution_count": 33,
   "metadata": {
    "colab": {},
    "colab_type": "code",
    "id": "NdffBhZesdb6"
   },
   "outputs": [
    {
     "name": "stdout",
     "output_type": "stream",
     "text": [
      "('Converted:', 'XLIV')\n"
     ]
    }
   ],
   "source": [
    "print('Converted:', Conv().to_roman(44))"
   ]
  },
  {
   "cell_type": "markdown",
   "metadata": {
    "colab_type": "text",
    "id": "lF6Acd9gsdb8"
   },
   "source": [
    "Expected Output:\n",
    "<table>\n",
    "  <tr>\n",
    "    <td>Converted:</td>\n",
    "    <td>XLIV</td> \n",
    "  </tr>"
   ]
  },
  {
   "cell_type": "markdown",
   "metadata": {
    "colab_type": "text",
    "id": "kphmMZ7JjPMv"
   },
   "source": [
    "#### 5. Implement class MyList, that contains method get_combinations(self, my_list), which returns all combinations of elements of given list, including empty element and in order, law of which can be discrovered from the expected output:\n",
    "<div style=\"text-align: right\">DRP reward: 2</div>"
   ]
  },
  {
   "cell_type": "code",
   "execution_count": 0,
   "metadata": {
    "colab": {},
    "colab_type": "code",
    "id": "YRLNrVppjPMw"
   },
   "outputs": [],
   "source": [
    "class MyList:\n",
    "     def get_combinations(self, my_list):\n",
    "        result_list = [[]]\n",
    "        for i in range(1, len(my_list)):\n",
    "            temp_list = []\n",
    "            m = 0\n",
    "            while len(temp_list) < i:\n",
    "                for k in range(len(my_list)):   "
   ]
  },
  {
   "cell_type": "code",
   "execution_count": 0,
   "metadata": {
    "colab": {},
    "colab_type": "code",
    "id": "8IVUwFllsdb_"
   },
   "outputs": [],
   "source": [
    "print('Combinations:', MyList().get_combinations([1, 2, 'a']))"
   ]
  },
  {
   "cell_type": "markdown",
   "metadata": {
    "colab_type": "text",
    "id": "Etp9QRL-sdcC"
   },
   "source": [
    "Expected Output:\n",
    "<table>\n",
    "  <tr>\n",
    "    <td>Combinations:</td>\n",
    "    <td>[[], [1], [2], ['a'], [1, 2], [1, 'a'], [2, 'a'], [1, 2, 'a']]</td> \n",
    "  </tr>"
   ]
  },
  {
   "cell_type": "markdown",
   "metadata": {
    "colab_type": "text",
    "id": "g0b3IEgTsdcD"
   },
   "source": [
    "# Libraries: numpy, scipy, pandas"
   ]
  },
  {
   "cell_type": "markdown",
   "metadata": {
    "colab_type": "text",
    "id": "-PgErpGgsdcE"
   },
   "source": [
    "## Numpy"
   ]
  },
  {
   "cell_type": "code",
   "execution_count": 1,
   "metadata": {
    "colab": {},
    "colab_type": "code",
    "id": "Be4_dnVpsdcF"
   },
   "outputs": [],
   "source": [
    "import numpy as np"
   ]
  },
  {
   "cell_type": "markdown",
   "metadata": {
    "colab_type": "text",
    "id": "zpJfOYJcjPM1"
   },
   "source": [
    "#### 6. Implement function func() which completes following task: the average weight of car is `m` kg, with a standard deviation of `s` kg. What part of all cars would you expect to have weight more than `k` kg (probability must be < 1)?\n",
    "<div style=\"text-align: right\">DRP reward: 2</div>"
   ]
  },
  {
   "cell_type": "code",
   "execution_count": 53,
   "metadata": {
    "colab": {},
    "colab_type": "code",
    "id": "-210pQUEjPM1"
   },
   "outputs": [],
   "source": [
    "def func(m, s, k):\n",
    "    n = 10000\n",
    "    nom = 0\n",
    "    \n",
    "    \n",
    "    points = np.random.normal(m, s, n)\n",
    "    for i in range(n):\n",
    "        if points[i] > k:\n",
    "            nom += 1\n",
    "    return float(nom) / n"
   ]
  },
  {
   "cell_type": "code",
   "execution_count": 55,
   "metadata": {
    "colab": {},
    "colab_type": "code",
    "id": "xkGrI3IYsdcJ"
   },
   "outputs": [
    {
     "name": "stdout",
     "output_type": "stream",
     "text": [
      "('Result:', 0.2499)\n"
     ]
    }
   ],
   "source": [
    "print('Result:', func(25, 3, 27))"
   ]
  },
  {
   "cell_type": "markdown",
   "metadata": {
    "colab_type": "text",
    "id": "leT5JX3ysdcM"
   },
   "source": [
    "Expected Output:\n",
    "<table>\n",
    "  <tr>\n",
    "    <td>Result:</td>\n",
    "    <td>~0.25</td> \n",
    "  </tr>"
   ]
  },
  {
   "cell_type": "markdown",
   "metadata": {
    "colab_type": "text",
    "id": "cXP-v9zRjPM5"
   },
   "source": [
    "#### 7. Implement function add_mean_and_calc_det(matrix), which adds to each element in the matrix row the mean of this row and returns the determinant(np.linalg.det) of the resulting matrix.\n",
    "\n",
    "<div style=\"text-align: right\">DRP reward: 2</div>"
   ]
  },
  {
   "cell_type": "code",
   "execution_count": 0,
   "metadata": {
    "colab": {},
    "colab_type": "code",
    "id": "4_Hz6gEPjPM5"
   },
   "outputs": [],
   "source": [
    "def add_mean_and_calc_det(matrix):\n",
    "    \"\"\"\n",
    "    :matrix: numpy.ndarray[list[list[int]]]\n",
    "    :return: numpy.float64\n",
    "    \"\"\"\n",
    "    for i in range()"
   ]
  },
  {
   "cell_type": "code",
   "execution_count": 0,
   "metadata": {
    "colab": {},
    "colab_type": "code",
    "id": "zZO__kp_sdcN"
   },
   "outputs": [],
   "source": [
    "print('Result:', add_mean_and_calc_det(np.array([[5, 3, 4], [7, 9, 8], [6, 7, 8]])))"
   ]
  },
  {
   "cell_type": "markdown",
   "metadata": {
    "colab_type": "text",
    "id": "xmzo4PEssdcP"
   },
   "source": [
    "Expected Output: \n",
    "<table>\n",
    "  <tr>\n",
    "    <td>Result:</td>\n",
    "    <td> 72 </td> \n",
    "  </tr>"
   ]
  },
  {
   "cell_type": "markdown",
   "metadata": {
    "colab_type": "text",
    "id": "FUAr1WPCjPM8"
   },
   "source": [
    "#### 8. Implement function nearest_to_scalar(matrix, n), which returns the closest to n number in the matrix.\n",
    "  \n",
    "<div style=\"text-align: right\">DRP reward: 2</div>"
   ]
  },
  {
   "cell_type": "code",
   "execution_count": 5,
   "metadata": {
    "colab": {},
    "colab_type": "code",
    "id": "VLS3S8g-jPM9"
   },
   "outputs": [],
   "source": [
    "import numpy as np\n",
    "def nearest_to_scalar(matrix, n):\n",
    "    k, m = matrix.shape\n",
    "    min = matrix[0, 0]\n",
    "    \n",
    "    for i in range(k):\n",
    "        for j in range(m):\n",
    "            if abs(matrix[i, j] - n) < abs(min - n):\n",
    "                min = matrix[i, j]\n",
    "    return min"
   ]
  },
  {
   "cell_type": "code",
   "execution_count": 6,
   "metadata": {
    "colab": {},
    "colab_type": "code",
    "id": "OKSqsu9FsdcS"
   },
   "outputs": [
    {
     "name": "stdout",
     "output_type": "stream",
     "text": [
      "('Nearest:', 9)\n"
     ]
    }
   ],
   "source": [
    "print('Nearest:', nearest_to_scalar(np.array([[5, 3, 4], [7, 9, 8], [6, 7, 8]]), 11))"
   ]
  },
  {
   "cell_type": "markdown",
   "metadata": {
    "colab_type": "text",
    "id": "cSW-eweGsdcV"
   },
   "source": [
    "Expected Output:\n",
    "<table>\n",
    "  <tr>\n",
    "    <td>Nearest:</td>\n",
    "    <td> 9 </td> \n",
    "  </tr>"
   ]
  },
  {
   "cell_type": "markdown",
   "metadata": {
    "colab_type": "text",
    "id": "0z5-m5v_jPM_"
   },
   "source": [
    "#### 9. Implement function svd_ranks(Z) which performs SVD of given matrix and returns a list of ranks of matrices U, S and V.\n",
    "<div style=\"text-align: right\">DRP reward: 2</div>"
   ]
  },
  {
   "cell_type": "code",
   "execution_count": 7,
   "metadata": {
    "colab": {},
    "colab_type": "code",
    "id": "8m-SG2hJjPNA"
   },
   "outputs": [],
   "source": [
    "def svd_ranks(Z): \n",
    "    u, s, v = np.linalg.svd(Z)\n",
    "    return np.linalg.matrix_rank(u), np.linalg.matrix_rank(s), np.linalg.matrix_rank(v)"
   ]
  },
  {
   "cell_type": "code",
   "execution_count": 8,
   "metadata": {
    "colab": {},
    "colab_type": "code",
    "id": "UGrS-YK7sdcY"
   },
   "outputs": [
    {
     "name": "stdout",
     "output_type": "stream",
     "text": [
      "('Svd ranks:', (3, 1, 3))\n"
     ]
    }
   ],
   "source": [
    "print('Svd ranks:',svd_ranks(np.arange(9).reshape((3,3))))"
   ]
  },
  {
   "cell_type": "markdown",
   "metadata": {
    "colab_type": "text",
    "id": "9RGRmS-Tsdcb"
   },
   "source": [
    "Expected Output: \n",
    "<table>\n",
    "  <tr>\n",
    "    <td>Svd ranks:</td>\n",
    "    <td> [3, 2, 3] </td> \n",
    "  </tr>"
   ]
  },
  {
   "cell_type": "markdown",
   "metadata": {
    "colab_type": "text",
    "id": "V88Qjos2sdcd"
   },
   "source": [
    "#### 10. Implement function dft(x) which computes the discrete Fourier Transform of the 1D array x, without using numpy function np.fft.fft().\n",
    "<div style=\"text-align: right\">DRP reward: 2</div>"
   ]
  },
  {
   "cell_type": "code",
   "execution_count": 9,
   "metadata": {
    "colab": {},
    "colab_type": "code",
    "id": "rW1M-HjEsdcd"
   },
   "outputs": [],
   "source": [
    "def dft(x):\n",
    "    n = len(x)\n",
    "    result = np.zeros(n, dtype=complex)\n",
    "    \n",
    "    for i in range(n):\n",
    "        for j in range(n):\n",
    "            result[i] += x[j] * np.exp(- 1j * 2 * i * j * np.pi / n)\n",
    "            \n",
    "    return result"
   ]
  },
  {
   "cell_type": "code",
   "execution_count": 10,
   "metadata": {
    "colab": {},
    "colab_type": "code",
    "id": "SFPubBSDsdce"
   },
   "outputs": [
    {
     "name": "stdout",
     "output_type": "stream",
     "text": [
      "('Result:', array([ 2.81192549+0.j        , -0.35998102-0.83417311j,\n",
      "       -0.10963143-0.34030084j, -0.10963143+0.34030084j,\n",
      "       -0.35998102+0.83417311j]))\n"
     ]
    }
   ],
   "source": [
    "np.random.seed(42)\n",
    "print('Result:', dft(np.random.random(5)))"
   ]
  },
  {
   "cell_type": "markdown",
   "metadata": {
    "colab_type": "text",
    "id": "86DeLTgisdcf"
   },
   "source": [
    "Expected Output: \n",
    "<table>\n",
    "  <tr>\n",
    "    <td>Result:</td>\n",
    "    <td> [ 2.81192549+0.j         -0.35998102-0.83417311j -0.10963143-0.34030084j\n",
    " -0.10963143+0.34030084j -0.35998102+0.83417311j]"
   ]
  },
  {
   "cell_type": "markdown",
   "metadata": {
    "colab_type": "text",
    "id": "8n9_CIzqjPNC"
   },
   "source": [
    "## Pandas"
   ]
  },
  {
   "cell_type": "code",
   "execution_count": 11,
   "metadata": {
    "colab": {},
    "colab_type": "code",
    "id": "UuJ58y8Wsdch"
   },
   "outputs": [],
   "source": [
    "import pandas as pd"
   ]
  },
  {
   "cell_type": "markdown",
   "metadata": {
    "colab_type": "text",
    "id": "cV0BQjaGjPND"
   },
   "source": [
    "#### 11. Consider the following dictionary \"data\" and list \"labels\":"
   ]
  },
  {
   "cell_type": "code",
   "execution_count": 12,
   "metadata": {
    "colab": {},
    "colab_type": "code",
    "id": "_C0MzBX8jPND"
   },
   "outputs": [],
   "source": [
    "data = {'animal': ['cat', 'cat', 'dog', 'dog', 'cat', 'cat', 'dog', 'cat', 'dog', 'dog'],\n",
    "        'age': [2.5, 1, 0.5, np.nan, 5, 2, 3.5, np.nan, 7, 3],\n",
    "        'weight': [1, 3, 6, 8, 4, 3, 10, 2, 7, 3],\n",
    "        'priority': ['yes', 'yes', 'no', 'yes', 'no', 'no', 'no', 'yes', 'no', 'no']}\n",
    "\n",
    "labels = ['a', 'b', 'c', 'd', 'e', 'f', 'g', 'h', 'i', 'j']"
   ]
  },
  {
   "cell_type": "markdown",
   "metadata": {
    "colab_type": "text",
    "id": "9erbHYY0jPNJ"
   },
   "source": [
    "** 11.1 Implement function repl_nan(data, labels) which creates a dataframe from dictionary  \"data\" with indexes from the list \"labels\", replaces the values \"nan\" in the age field by the mean age depending on the animal's type and returns a new dataframe.**\n",
    "<div style=\"text-align: right\">DRP reward: 2</div>"
   ]
  },
  {
   "cell_type": "code",
   "execution_count": 13,
   "metadata": {
    "colab": {},
    "colab_type": "code",
    "id": "TTd04W3zjPNL"
   },
   "outputs": [],
   "source": [
    "def repl_nan(data, labels):\n",
    "    data_frame = pd.DataFrame(data)\n",
    "    \n",
    "    cat, dog = data_frame.groupby(['animal']).mean()['age']\n",
    "    \n",
    "    for i in range(data_frame.shape[0]):\n",
    "        if np.isnan(data_frame.loc[i, 'age']) and data_frame.loc[i, 'animal'] == 'cat':\n",
    "            data_frame.loc[i, 'age'] = cat\n",
    "        elif np.isnan(data_frame.loc[i, 'age']) and data_frame.loc[i, 'animal'] == 'dog':\n",
    "            data_frame.loc[i, 'age'] = dog\n",
    "            \n",
    "    for i in range(data_frame.shape[0]):\n",
    "        data_frame.rename(index={i : labels[i]}, inplace=True)\n",
    "    return data_frame"
   ]
  },
  {
   "cell_type": "code",
   "execution_count": 14,
   "metadata": {
    "colab": {},
    "colab_type": "code",
    "id": "05k_bNK5sdck"
   },
   "outputs": [
    {
     "data": {
      "text/html": [
       "<div>\n",
       "<style scoped>\n",
       "    .dataframe tbody tr th:only-of-type {\n",
       "        vertical-align: middle;\n",
       "    }\n",
       "\n",
       "    .dataframe tbody tr th {\n",
       "        vertical-align: top;\n",
       "    }\n",
       "\n",
       "    .dataframe thead th {\n",
       "        text-align: right;\n",
       "    }\n",
       "</style>\n",
       "<table border=\"1\" class=\"dataframe\">\n",
       "  <thead>\n",
       "    <tr style=\"text-align: right;\">\n",
       "      <th></th>\n",
       "      <th>age</th>\n",
       "      <th>animal</th>\n",
       "      <th>priority</th>\n",
       "      <th>weight</th>\n",
       "    </tr>\n",
       "  </thead>\n",
       "  <tbody>\n",
       "    <tr>\n",
       "      <th>a</th>\n",
       "      <td>2.500</td>\n",
       "      <td>cat</td>\n",
       "      <td>yes</td>\n",
       "      <td>1</td>\n",
       "    </tr>\n",
       "    <tr>\n",
       "      <th>b</th>\n",
       "      <td>1.000</td>\n",
       "      <td>cat</td>\n",
       "      <td>yes</td>\n",
       "      <td>3</td>\n",
       "    </tr>\n",
       "    <tr>\n",
       "      <th>c</th>\n",
       "      <td>0.500</td>\n",
       "      <td>dog</td>\n",
       "      <td>no</td>\n",
       "      <td>6</td>\n",
       "    </tr>\n",
       "    <tr>\n",
       "      <th>d</th>\n",
       "      <td>3.500</td>\n",
       "      <td>dog</td>\n",
       "      <td>yes</td>\n",
       "      <td>8</td>\n",
       "    </tr>\n",
       "    <tr>\n",
       "      <th>e</th>\n",
       "      <td>5.000</td>\n",
       "      <td>cat</td>\n",
       "      <td>no</td>\n",
       "      <td>4</td>\n",
       "    </tr>\n",
       "    <tr>\n",
       "      <th>f</th>\n",
       "      <td>2.000</td>\n",
       "      <td>cat</td>\n",
       "      <td>no</td>\n",
       "      <td>3</td>\n",
       "    </tr>\n",
       "    <tr>\n",
       "      <th>g</th>\n",
       "      <td>3.500</td>\n",
       "      <td>dog</td>\n",
       "      <td>no</td>\n",
       "      <td>10</td>\n",
       "    </tr>\n",
       "    <tr>\n",
       "      <th>h</th>\n",
       "      <td>2.625</td>\n",
       "      <td>cat</td>\n",
       "      <td>yes</td>\n",
       "      <td>2</td>\n",
       "    </tr>\n",
       "    <tr>\n",
       "      <th>i</th>\n",
       "      <td>7.000</td>\n",
       "      <td>dog</td>\n",
       "      <td>no</td>\n",
       "      <td>7</td>\n",
       "    </tr>\n",
       "    <tr>\n",
       "      <th>j</th>\n",
       "      <td>3.000</td>\n",
       "      <td>dog</td>\n",
       "      <td>no</td>\n",
       "      <td>3</td>\n",
       "    </tr>\n",
       "  </tbody>\n",
       "</table>\n",
       "</div>"
      ],
      "text/plain": [
       "     age animal priority  weight\n",
       "a  2.500    cat      yes       1\n",
       "b  1.000    cat      yes       3\n",
       "c  0.500    dog       no       6\n",
       "d  3.500    dog      yes       8\n",
       "e  5.000    cat       no       4\n",
       "f  2.000    cat       no       3\n",
       "g  3.500    dog       no      10\n",
       "h  2.625    cat      yes       2\n",
       "i  7.000    dog       no       7\n",
       "j  3.000    dog       no       3"
      ]
     },
     "execution_count": 14,
     "metadata": {},
     "output_type": "execute_result"
    }
   ],
   "source": [
    "repl_nan(data, labels)"
   ]
  },
  {
   "cell_type": "markdown",
   "metadata": {
    "colab_type": "text",
    "id": "5FUJ0jkssdcm"
   },
   "source": [
    "Expected Output: \n",
    "\n",
    "|  | age | animal                    | priority | weight       | \n",
    "|----|-------------------------|----------|------------|------------------------------------------------|--------------------------------------------------------|--------------|-----------------------|\n",
    "| **a**  | 2.500 | cat      | yes | 1|\n",
    "| **b** | 1.000  | cat      | yes | 3|\n",
    "| **c** | 0.500  | dog      | no | 6|\n",
    "| **d** | 3.500  | dog      | yes | 8|\n",
    "| **e** | 5.000  | cat      | no | 4|\n",
    "| **f** | 2.000  | cat      | no | 3|\n",
    "| **g** | 3.500  | dog      | no | 10|\n",
    "| **h** | 2.625  | cat      | yes | 2|\n",
    "| **i** | 7.000  | dog      | no |7|\n",
    "| **j** | 3.000  | dog      | no | 3|"
   ]
  },
  {
   "cell_type": "markdown",
   "metadata": {
    "colab_type": "text",
    "id": "nnrks-vGjPNO"
   },
   "source": [
    "#### 11.2 Implement function weight_to_type(data, labels) which creates a dataframe from dictionary \"data\" with indexes from the list \"labels\", calculates average weight of each animal type and returns dictionary with these values, where keys are animal types and values are animal weights.\n",
    "<div style=\"text-align: right\">DRP reward: 2</div>"
   ]
  },
  {
   "cell_type": "code",
   "execution_count": 46,
   "metadata": {
    "colab": {},
    "colab_type": "code",
    "id": "v5fN_pdbjPNP"
   },
   "outputs": [],
   "source": [
    "def weight_to_type(data, labels):\n",
    "    data_frame = pd.DataFrame(data)\n",
    "    \n",
    "    for i in range(data_frame.shape[0]):\n",
    "        data_frame.rename(index={i : labels[i]}, inplace=True)\n",
    "        \n",
    "    cat, dog = data_frame.groupby(['animal']).mean()['weight']\n",
    "    \n",
    "    result_dict = {'cat': cat, 'dog': dog}\n",
    "        \n",
    "    return result_dict"
   ]
  },
  {
   "cell_type": "code",
   "execution_count": 47,
   "metadata": {
    "colab": {},
    "colab_type": "code",
    "id": "SaHRr_bAsdct"
   },
   "outputs": [
    {
     "name": "stdout",
     "output_type": "stream",
     "text": [
      "('weight_to_type', {'dog': 6.8, 'cat': 2.6})\n"
     ]
    }
   ],
   "source": [
    "print('weight_to_type', weight_to_type(data, labels))"
   ]
  },
  {
   "cell_type": "markdown",
   "metadata": {
    "colab_type": "text",
    "id": "NBfp6yiEsdcv"
   },
   "source": [
    "Expected Output: \n",
    "<table>\n",
    "  <tr>\n",
    "    <td>weight_to_type:</td>\n",
    "    <td> {'cat': 2.6, 'dog': 6.8} </td> \n",
    "  </tr>"
   ]
  },
  {
   "cell_type": "markdown",
   "metadata": {
    "colab_type": "text",
    "id": "aMRFy0acjPNS"
   },
   "source": [
    "#### 11.3  Implement function kittens(data, labels) which creates a dataframe from dictionary \"data\" with indexes from the list \"labels\" and returns dataframe with data about cats with age < 3.\n",
    "<div style=\"text-align: right\">DRP reward: 2</div>"
   ]
  },
  {
   "cell_type": "code",
   "execution_count": 68,
   "metadata": {
    "colab": {},
    "colab_type": "code",
    "id": "iUdq_fcdjPNU"
   },
   "outputs": [],
   "source": [
    "def kittens(data, labels):    \n",
    "    data_frame = pd.DataFrame(data)\n",
    "    \n",
    "    for i in range(data_frame.shape[0]):\n",
    "        data_frame.rename(index={i : labels[i]}, inplace=True)\n",
    "        if np.isnan(data_frame.loc[labels[i], 'age']) or data_frame.loc[labels[i], 'animal'] == 'dog' or data_frame.loc[labels[i], 'age'] >= 3:\n",
    "            data_frame.drop(index=labels[i], inplace=True)\n",
    "        \n",
    "    return data_frame"
   ]
  },
  {
   "cell_type": "code",
   "execution_count": 69,
   "metadata": {
    "colab": {},
    "colab_type": "code",
    "id": "yM0tVIKJsdcx"
   },
   "outputs": [
    {
     "data": {
      "text/html": [
       "<div>\n",
       "<style scoped>\n",
       "    .dataframe tbody tr th:only-of-type {\n",
       "        vertical-align: middle;\n",
       "    }\n",
       "\n",
       "    .dataframe tbody tr th {\n",
       "        vertical-align: top;\n",
       "    }\n",
       "\n",
       "    .dataframe thead th {\n",
       "        text-align: right;\n",
       "    }\n",
       "</style>\n",
       "<table border=\"1\" class=\"dataframe\">\n",
       "  <thead>\n",
       "    <tr style=\"text-align: right;\">\n",
       "      <th></th>\n",
       "      <th>age</th>\n",
       "      <th>animal</th>\n",
       "      <th>priority</th>\n",
       "      <th>weight</th>\n",
       "    </tr>\n",
       "  </thead>\n",
       "  <tbody>\n",
       "    <tr>\n",
       "      <th>a</th>\n",
       "      <td>2.5</td>\n",
       "      <td>cat</td>\n",
       "      <td>yes</td>\n",
       "      <td>1</td>\n",
       "    </tr>\n",
       "    <tr>\n",
       "      <th>b</th>\n",
       "      <td>1.0</td>\n",
       "      <td>cat</td>\n",
       "      <td>yes</td>\n",
       "      <td>3</td>\n",
       "    </tr>\n",
       "    <tr>\n",
       "      <th>f</th>\n",
       "      <td>2.0</td>\n",
       "      <td>cat</td>\n",
       "      <td>no</td>\n",
       "      <td>3</td>\n",
       "    </tr>\n",
       "  </tbody>\n",
       "</table>\n",
       "</div>"
      ],
      "text/plain": [
       "   age animal priority  weight\n",
       "a  2.5    cat      yes       1\n",
       "b  1.0    cat      yes       3\n",
       "f  2.0    cat       no       3"
      ]
     },
     "execution_count": 69,
     "metadata": {},
     "output_type": "execute_result"
    }
   ],
   "source": [
    "kittens(data, labels)"
   ]
  },
  {
   "cell_type": "markdown",
   "metadata": {
    "colab_type": "text",
    "id": "K-8_bYeRsdcz"
   },
   "source": [
    "Expected Output: \n",
    "\n",
    "|  | age | animal                    | priority | weight       | \n",
    "|----|-------------------------|----------|------------|------------------------------------------------|--------------------------------------------------------|--------------|-----------------------|\n",
    "| **a** | 2.5  | cat      | yes | 1|\n",
    "| **b** | 1.0  | cat      | yes | 3|\n",
    "| **f** | 2.0  | cat      | no | 3|"
   ]
  },
  {
   "cell_type": "markdown",
   "metadata": {
    "colab_type": "text",
    "id": "Mtc079yNjPNZ"
   },
   "source": [
    "#### 11.4  Implement function sorted_df(data, labels) which creates a dataframe from dictionary \"data\" with indexes from the list \"labels\" which returns dataframe sorted  firstly by age in a decreasing order, secondly, for the number of weight in ascending order.\n",
    "<div style=\"text-align: right\">DRP reward: 2</div>"
   ]
  },
  {
   "cell_type": "code",
   "execution_count": 72,
   "metadata": {
    "colab": {},
    "colab_type": "code",
    "id": "zaQ4-bqLjPNa"
   },
   "outputs": [],
   "source": [
    "def sorted_df(data, labels):\n",
    "    data_frame = pd.DataFrame(data)\n",
    "    \n",
    "    data_frame.sort_values(['age', 'weight'], ascending=[False, True], inplace=True)\n",
    "        \n",
    "    return data_frame"
   ]
  },
  {
   "cell_type": "code",
   "execution_count": 73,
   "metadata": {
    "colab": {},
    "colab_type": "code",
    "id": "frofbFYTsdc2"
   },
   "outputs": [
    {
     "data": {
      "text/html": [
       "<div>\n",
       "<style scoped>\n",
       "    .dataframe tbody tr th:only-of-type {\n",
       "        vertical-align: middle;\n",
       "    }\n",
       "\n",
       "    .dataframe tbody tr th {\n",
       "        vertical-align: top;\n",
       "    }\n",
       "\n",
       "    .dataframe thead th {\n",
       "        text-align: right;\n",
       "    }\n",
       "</style>\n",
       "<table border=\"1\" class=\"dataframe\">\n",
       "  <thead>\n",
       "    <tr style=\"text-align: right;\">\n",
       "      <th></th>\n",
       "      <th>age</th>\n",
       "      <th>animal</th>\n",
       "      <th>priority</th>\n",
       "      <th>weight</th>\n",
       "    </tr>\n",
       "  </thead>\n",
       "  <tbody>\n",
       "    <tr>\n",
       "      <th>8</th>\n",
       "      <td>7.0</td>\n",
       "      <td>dog</td>\n",
       "      <td>no</td>\n",
       "      <td>7</td>\n",
       "    </tr>\n",
       "    <tr>\n",
       "      <th>4</th>\n",
       "      <td>5.0</td>\n",
       "      <td>cat</td>\n",
       "      <td>no</td>\n",
       "      <td>4</td>\n",
       "    </tr>\n",
       "    <tr>\n",
       "      <th>6</th>\n",
       "      <td>3.5</td>\n",
       "      <td>dog</td>\n",
       "      <td>no</td>\n",
       "      <td>10</td>\n",
       "    </tr>\n",
       "    <tr>\n",
       "      <th>9</th>\n",
       "      <td>3.0</td>\n",
       "      <td>dog</td>\n",
       "      <td>no</td>\n",
       "      <td>3</td>\n",
       "    </tr>\n",
       "    <tr>\n",
       "      <th>0</th>\n",
       "      <td>2.5</td>\n",
       "      <td>cat</td>\n",
       "      <td>yes</td>\n",
       "      <td>1</td>\n",
       "    </tr>\n",
       "    <tr>\n",
       "      <th>5</th>\n",
       "      <td>2.0</td>\n",
       "      <td>cat</td>\n",
       "      <td>no</td>\n",
       "      <td>3</td>\n",
       "    </tr>\n",
       "    <tr>\n",
       "      <th>1</th>\n",
       "      <td>1.0</td>\n",
       "      <td>cat</td>\n",
       "      <td>yes</td>\n",
       "      <td>3</td>\n",
       "    </tr>\n",
       "    <tr>\n",
       "      <th>2</th>\n",
       "      <td>0.5</td>\n",
       "      <td>dog</td>\n",
       "      <td>no</td>\n",
       "      <td>6</td>\n",
       "    </tr>\n",
       "    <tr>\n",
       "      <th>7</th>\n",
       "      <td>NaN</td>\n",
       "      <td>cat</td>\n",
       "      <td>yes</td>\n",
       "      <td>2</td>\n",
       "    </tr>\n",
       "    <tr>\n",
       "      <th>3</th>\n",
       "      <td>NaN</td>\n",
       "      <td>dog</td>\n",
       "      <td>yes</td>\n",
       "      <td>8</td>\n",
       "    </tr>\n",
       "  </tbody>\n",
       "</table>\n",
       "</div>"
      ],
      "text/plain": [
       "   age animal priority  weight\n",
       "8  7.0    dog       no       7\n",
       "4  5.0    cat       no       4\n",
       "6  3.5    dog       no      10\n",
       "9  3.0    dog       no       3\n",
       "0  2.5    cat      yes       1\n",
       "5  2.0    cat       no       3\n",
       "1  1.0    cat      yes       3\n",
       "2  0.5    dog       no       6\n",
       "7  NaN    cat      yes       2\n",
       "3  NaN    dog      yes       8"
      ]
     },
     "execution_count": 73,
     "metadata": {},
     "output_type": "execute_result"
    }
   ],
   "source": [
    "sorted_df(data, labels)"
   ]
  },
  {
   "cell_type": "markdown",
   "metadata": {
    "colab_type": "text",
    "id": "KZwK1kj4sdc3"
   },
   "source": [
    "Expected Output: \n",
    "\n",
    "|  | age | animal                    | priority | weight       | \n",
    "|----|-------------------------|----------|------------|------------------------------------------------|--------------------------------------------------------|--------------|-----------------------|\n",
    "| **i** | 7.0  | dog      | no |7|\n",
    "| **e** | 5.0  | cat      | no | 4|\n",
    "| **g** | 3.5  | dog      | no | 10|\n",
    "| **j** | 3.0  | dog      | no | 3|\n",
    "| **a**  | 2.5 | cat      | yes | 1|\n",
    "| **f** | 2.0  | cat      | no | 3|\n",
    "| **b** | 1.0  | cat      | yes | 3|\n",
    "| **c** | 0.5  | dog      | no | 6|\n",
    "| **h** | NaN  | cat      | yes | 2|\n",
    "| **d** | NaN  | dog      | yes | 8|"
   ]
  },
  {
   "cell_type": "markdown",
   "metadata": {
    "colab_type": "text",
    "id": "mEOcDR0rsdc3"
   },
   "source": [
    "## Scipy"
   ]
  },
  {
   "cell_type": "code",
   "execution_count": 0,
   "metadata": {
    "colab": {},
    "colab_type": "code",
    "id": "anC0EGdMsdc4"
   },
   "outputs": [],
   "source": [
    "import scipy"
   ]
  },
  {
   "cell_type": "markdown",
   "metadata": {
    "colab_type": "text",
    "id": "L1mQ9sfijPNc"
   },
   "source": [
    "#### 12. The equation of motion for the damped oscillator is:\n",
    "\n",
    "\n",
    "\n",
    "<div style=\"text-align: center\">$\\frac{d^{2}x}{dt^2}+2\\zeta \\omega _{0}\\frac{dx}{dt}+\\omega_ {0}^{2}x = 0$</div>\n",
    "\n",
    "where $x$ is the position of the oscillator, $\\omega_0$ is the frequency, and $\\zeta$ is the damping ratio.\n",
    "\n",
    "To write this second-order ODE on standard form we introduce $p$ = dx/dt:\n",
    "\n",
    "<div style=\"text-align: center\">$\\frac{dp}{dt} = -2\\zeta \\omega _{0}p - \\omega_ {0}^{2}x$</div>\n",
    "\n",
    "<div style=\"text-align: center\">$\\frac{dx}{dt} = p$</div>\n",
    "\n",
    "Implement function undamped() which solves the ODE for undamped oscillation.\n",
    "<div style=\"text-align: right\">DRP reward: 2</div>\n",
    "Return vector of y coordinates, depending on time t."
   ]
  },
  {
   "cell_type": "code",
   "execution_count": 0,
   "metadata": {
    "colab": {},
    "colab_type": "code",
    "id": "ZSUQJoA_jPNd"
   },
   "outputs": [],
   "source": [
    "def undamped(y0, t):\n",
    "    '''\n",
    "    :param y0: list, initial state \n",
    "    :param t: array, time coodinate to solve the ODE for\n",
    "    :return: numpy.ndarray of shape (10, )\n",
    "    '''\n",
    "    # frequency:\n",
    "    w0 = 2.0 * np.pi\n",
    "    # YOUR CODE HERE"
   ]
  },
  {
   "cell_type": "code",
   "execution_count": 0,
   "metadata": {
    "colab": {},
    "colab_type": "code",
    "id": "-bC5Evm6sdc7"
   },
   "outputs": [],
   "source": [
    "y0 = [2.0, 0.0] \n",
    "t = np.linspace(0, 5, 5)\n",
    "\n",
    "print(undamped(y0, t))"
   ]
  },
  {
   "cell_type": "markdown",
   "metadata": {
    "colab_type": "text",
    "id": "xGX5IJuKsdc8"
   },
   "source": [
    "Expected Output: \n",
    "<table>\n",
    "  <tr>\n",
    "    <td>undamped:</td>\n",
    "    <td> [  2.00000000e+00   7.49489745e-08  -2.00000012e+00  -1.95362282e-07\n",
    "   2.00000027e+00] </td> \n",
    "  </tr>"
   ]
  }
 ],
 "metadata": {
  "colab": {
   "collapsed_sections": [],
   "name": "DataRoot University  _ Data Science Module 1 _ Test 1.ipynb",
   "provenance": [],
   "version": "0.3.2"
  },
  "kernelspec": {
   "display_name": "Python 3",
   "language": "python",
   "name": "python3"
  },
  "language_info": {
   "codemirror_mode": {
    "name": "ipython",
    "version": 2
   },
   "file_extension": ".py",
   "mimetype": "text/x-python",
   "name": "python",
   "nbconvert_exporter": "python",
   "pygments_lexer": "ipython2",
   "version": "2.7.15+"
  }
 },
 "nbformat": 4,
 "nbformat_minor": 1
}
